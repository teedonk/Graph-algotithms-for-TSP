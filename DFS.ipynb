{
 "cells": [
  {
   "cell_type": "code",
   "execution_count": 10,
   "id": "initial_id",
   "metadata": {
    "collapsed": true,
    "ExecuteTime": {
     "end_time": "2024-02-24T20:38:44.874847Z",
     "start_time": "2024-02-24T20:38:44.843716700Z"
    }
   },
   "outputs": [
    {
     "name": "stderr",
     "output_type": "stream",
     "text": [
      "<>:5: SyntaxWarning: invalid escape sequence '\\s'\n",
      "<>:5: SyntaxWarning: invalid escape sequence '\\s'\n",
      "C:\\Users\\HP\\AppData\\Local\\Temp\\ipykernel_20792\\31244428.py:5: SyntaxWarning: invalid escape sequence '\\s'\n",
      "  data = pd.read_csv(my_data, sep= \"\\s+\", names=names)\n"
     ]
    },
    {
     "data": {
      "text/plain": "     a   b   c    d    e    f    g    h    i    j  ...    q    r    s    t  \\\n0    0  83  93  129  133  139  151  169  135  114  ...  159  181  172  185   \n1   83   0  40   53   62   64   91  116   93   84  ...  156  175  152  165   \n2   93  40   0   42   42   49   59   81   54   44  ...  117  135  112  125   \n3  129  53  42    0   11   11   46   72   65   70  ...  142  156  127  139   \n4  133  62  42   11    0    9   35   61   55   62  ...  133  146  117  128   \n\n     u    v    w    x    y    z  \n0  147  157  185  220  127  181  \n1  160  180  223  268  179  197  \n2  124  147  193  241  157  161  \n3  155  180  228  278  197  190  \n4  148  173  222  272  194  182  \n\n[5 rows x 26 columns]",
      "text/html": "<div>\n<style scoped>\n    .dataframe tbody tr th:only-of-type {\n        vertical-align: middle;\n    }\n\n    .dataframe tbody tr th {\n        vertical-align: top;\n    }\n\n    .dataframe thead th {\n        text-align: right;\n    }\n</style>\n<table border=\"1\" class=\"dataframe\">\n  <thead>\n    <tr style=\"text-align: right;\">\n      <th></th>\n      <th>a</th>\n      <th>b</th>\n      <th>c</th>\n      <th>d</th>\n      <th>e</th>\n      <th>f</th>\n      <th>g</th>\n      <th>h</th>\n      <th>i</th>\n      <th>j</th>\n      <th>...</th>\n      <th>q</th>\n      <th>r</th>\n      <th>s</th>\n      <th>t</th>\n      <th>u</th>\n      <th>v</th>\n      <th>w</th>\n      <th>x</th>\n      <th>y</th>\n      <th>z</th>\n    </tr>\n  </thead>\n  <tbody>\n    <tr>\n      <th>0</th>\n      <td>0</td>\n      <td>83</td>\n      <td>93</td>\n      <td>129</td>\n      <td>133</td>\n      <td>139</td>\n      <td>151</td>\n      <td>169</td>\n      <td>135</td>\n      <td>114</td>\n      <td>...</td>\n      <td>159</td>\n      <td>181</td>\n      <td>172</td>\n      <td>185</td>\n      <td>147</td>\n      <td>157</td>\n      <td>185</td>\n      <td>220</td>\n      <td>127</td>\n      <td>181</td>\n    </tr>\n    <tr>\n      <th>1</th>\n      <td>83</td>\n      <td>0</td>\n      <td>40</td>\n      <td>53</td>\n      <td>62</td>\n      <td>64</td>\n      <td>91</td>\n      <td>116</td>\n      <td>93</td>\n      <td>84</td>\n      <td>...</td>\n      <td>156</td>\n      <td>175</td>\n      <td>152</td>\n      <td>165</td>\n      <td>160</td>\n      <td>180</td>\n      <td>223</td>\n      <td>268</td>\n      <td>179</td>\n      <td>197</td>\n    </tr>\n    <tr>\n      <th>2</th>\n      <td>93</td>\n      <td>40</td>\n      <td>0</td>\n      <td>42</td>\n      <td>42</td>\n      <td>49</td>\n      <td>59</td>\n      <td>81</td>\n      <td>54</td>\n      <td>44</td>\n      <td>...</td>\n      <td>117</td>\n      <td>135</td>\n      <td>112</td>\n      <td>125</td>\n      <td>124</td>\n      <td>147</td>\n      <td>193</td>\n      <td>241</td>\n      <td>157</td>\n      <td>161</td>\n    </tr>\n    <tr>\n      <th>3</th>\n      <td>129</td>\n      <td>53</td>\n      <td>42</td>\n      <td>0</td>\n      <td>11</td>\n      <td>11</td>\n      <td>46</td>\n      <td>72</td>\n      <td>65</td>\n      <td>70</td>\n      <td>...</td>\n      <td>142</td>\n      <td>156</td>\n      <td>127</td>\n      <td>139</td>\n      <td>155</td>\n      <td>180</td>\n      <td>228</td>\n      <td>278</td>\n      <td>197</td>\n      <td>190</td>\n    </tr>\n    <tr>\n      <th>4</th>\n      <td>133</td>\n      <td>62</td>\n      <td>42</td>\n      <td>11</td>\n      <td>0</td>\n      <td>9</td>\n      <td>35</td>\n      <td>61</td>\n      <td>55</td>\n      <td>62</td>\n      <td>...</td>\n      <td>133</td>\n      <td>146</td>\n      <td>117</td>\n      <td>128</td>\n      <td>148</td>\n      <td>173</td>\n      <td>222</td>\n      <td>272</td>\n      <td>194</td>\n      <td>182</td>\n    </tr>\n  </tbody>\n</table>\n<p>5 rows × 26 columns</p>\n</div>"
     },
     "execution_count": 10,
     "metadata": {},
     "output_type": "execute_result"
    }
   ],
   "source": [
    "import numpy as np\n",
    "import pandas as pd\n",
    "my_data = \"C:/Users/HP/Desktop/MSC Project/fri26_d.txt\"\n",
    "names = (\"a\", \"b\", \"c\", \"d\",\"e\", \"f\", \"g\", \"h\", \"i\", \"j\", \"k\", \"l\", \"m\", \"n\", \"o\", \"p\", \"q\", \"r\", \"s\", \"t\", \"u\", \"v\", \"w\", \"x\", \"y\", \"z\")\n",
    "data = pd.read_csv(my_data, sep= \"\\s+\", names=names)\n",
    "\n",
    "data.head()"
   ]
  }
 ],
 "metadata": {
  "kernelspec": {
   "display_name": "Python 3",
   "language": "python",
   "name": "python3"
  },
  "language_info": {
   "codemirror_mode": {
    "name": "ipython",
    "version": 2
   },
   "file_extension": ".py",
   "mimetype": "text/x-python",
   "name": "python",
   "nbconvert_exporter": "python",
   "pygments_lexer": "ipython2",
   "version": "2.7.6"
  }
 },
 "nbformat": 4,
 "nbformat_minor": 5
}
